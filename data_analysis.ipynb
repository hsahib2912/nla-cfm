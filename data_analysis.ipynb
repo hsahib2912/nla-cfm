{
 "cells": [
  {
   "cell_type": "code",
   "execution_count": 42,
   "metadata": {},
   "outputs": [],
   "source": [
    "import sklearn\n",
    "from sklearn.neural_network import MLPClassifier\n",
    "from sklearn.model_selection import train_test_split\n",
    "from sklearn.utils import shuffle\n",
    "import numpy as np\n",
    "import pandas as pd\n",
    "from sklearn.metrics import accuracy_score\n",
    "import pickle"
   ]
  },
  {
   "cell_type": "code",
   "execution_count": 43,
   "metadata": {},
   "outputs": [],
   "source": [
    "df = pd.read_csv('new_data.csv')\n",
    "X = df.to_numpy()[:,:131]\n",
    "y = df.to_numpy()[:,132]\n",
    "X = np.array(X,dtype = float)\n",
    "y = np.array(y,dtype = float)"
   ]
  },
  {
   "cell_type": "code",
   "execution_count": 44,
   "metadata": {},
   "outputs": [
    {
     "data": {
      "text/plain": [
       "array([[0., 0., 0., ..., 0., 0., 0.],\n",
       "       [1., 0., 0., ..., 1., 1., 0.],\n",
       "       [0., 0., 0., ..., 1., 0., 0.],\n",
       "       ...,\n",
       "       [0., 0., 0., ..., 0., 0., 0.],\n",
       "       [1., 0., 0., ..., 0., 1., 0.],\n",
       "       [0., 0., 0., ..., 0., 0., 0.]])"
      ]
     },
     "execution_count": 44,
     "metadata": {},
     "output_type": "execute_result"
    }
   ],
   "source": [
    "X, y = shuffle(X, y, random_state=0)\n",
    "X"
   ]
  },
  {
   "cell_type": "code",
   "execution_count": 139,
   "metadata": {},
   "outputs": [],
   "source": [
    "train_x, test_x, train_y, test_y = train_test_split(X, y, test_size=0.2, random_state=42)"
   ]
  },
  {
   "cell_type": "code",
   "execution_count": 140,
   "metadata": {},
   "outputs": [
    {
     "data": {
      "text/plain": [
       "3936"
      ]
     },
     "execution_count": 140,
     "metadata": {},
     "output_type": "execute_result"
    }
   ],
   "source": [
    "len(train_x)"
   ]
  },
  {
   "cell_type": "code",
   "execution_count": 45,
   "metadata": {},
   "outputs": [
    {
     "name": "stdout",
     "output_type": "stream",
     "text": [
      "Iteration 1, loss = 3.50967881\n",
      "Iteration 2, loss = 2.72624411\n",
      "Iteration 3, loss = 1.36233899\n",
      "Iteration 4, loss = 0.32960155\n",
      "Iteration 5, loss = 0.06990121\n",
      "Iteration 6, loss = 0.02896936\n",
      "Iteration 7, loss = 0.01725900\n",
      "Iteration 8, loss = 0.01189665\n",
      "Iteration 9, loss = 0.00881925\n",
      "Iteration 10, loss = 0.00683968\n",
      "Iteration 11, loss = 0.00545907\n",
      "Iteration 12, loss = 0.00442361\n",
      "Iteration 13, loss = 0.00362246\n",
      "Iteration 14, loss = 0.00303477\n",
      "Iteration 15, loss = 0.00258307\n",
      "Iteration 16, loss = 0.00222646\n",
      "Iteration 17, loss = 0.00195093\n",
      "Iteration 18, loss = 0.00173074\n",
      "Iteration 19, loss = 0.00154393\n",
      "Iteration 20, loss = 0.00138673\n",
      "Iteration 21, loss = 0.00126036\n",
      "Iteration 22, loss = 0.00114887\n",
      "Iteration 23, loss = 0.00105148\n",
      "Iteration 24, loss = 0.00096383\n",
      "Iteration 25, loss = 0.00087158\n",
      "Iteration 26, loss = 0.00078565\n",
      "Iteration 27, loss = 0.00071676\n",
      "Iteration 28, loss = 0.00065502\n",
      "Iteration 29, loss = 0.00060613\n",
      "Iteration 30, loss = 0.00056485\n",
      "Iteration 31, loss = 0.00052802\n",
      "Iteration 32, loss = 0.00049739\n",
      "Iteration 33, loss = 0.00047036\n",
      "Training loss did not improve more than tol=0.000100 for 10 consecutive epochs. Stopping.\n"
     ]
    }
   ],
   "source": [
    "clf = MLPClassifier(verbose = 2,hidden_layer_sizes = (100,50,50)).fit(train_x, train_y)"
   ]
  },
  {
   "cell_type": "code",
   "execution_count": 142,
   "metadata": {},
   "outputs": [
    {
     "data": {
      "text/plain": [
       "1.0"
      ]
     },
     "execution_count": 142,
     "metadata": {},
     "output_type": "execute_result"
    }
   ],
   "source": [
    "pred = clf.predict(test_x)\n",
    "accuracy_score(pred,test_y)"
   ]
  },
  {
   "cell_type": "code",
   "execution_count": 144,
   "metadata": {},
   "outputs": [],
   "source": [
    "pickle.dump(clf, open('model_clf', 'wb'))"
   ]
  },
  {
   "cell_type": "code",
   "execution_count": 53,
   "metadata": {},
   "outputs": [],
   "source": [
    "clf = pickle.load(open('model_clf', 'rb'))"
   ]
  },
  {
   "cell_type": "code",
   "execution_count": 150,
   "metadata": {},
   "outputs": [],
   "source": [
    "miss = train_x[0]\n",
    "miss = np.reshape(miss,(1,-1))\n",
    "pred = clf.predict(miss)"
   ]
  },
  {
   "cell_type": "code",
   "execution_count": 152,
   "metadata": {},
   "outputs": [
    {
     "data": {
      "text/plain": [
       "19.0"
      ]
     },
     "execution_count": 152,
     "metadata": {},
     "output_type": "execute_result"
    }
   ],
   "source": [
    "train_y[0]"
   ]
  },
  {
   "cell_type": "code",
   "execution_count": 52,
   "metadata": {},
   "outputs": [],
   "source": [
    "import pickle\n",
    "import numpy as np\n",
    "import csv"
   ]
  },
  {
   "cell_type": "code",
   "execution_count": 54,
   "metadata": {},
   "outputs": [],
   "source": [
    "a = [1, 1, 1, 0, 0, 0, 0, 0, 0, 0, 0, 0, 0, 0, 0, 0, 0, 0, 0, 0, 0, 0, 0, 0, 0, 0, 0, 0, 0, 0, 0, 0, 0, 0, 0, 0, 0, 0, 0, 0, 0, 0, 0, 0, 0, 0, 0, 0, 0, 0, 0, 0, 0, 0, 0, 0, 0, 0, 0, 0, 0, 0, 0, 0, 0, 0, 0, 0, 0, 0, 0, 0, 0, 0, 0, 0, 0, 0, 0, 0, 0, 0, 0, 0, 0, 0, 0, 0, 0, 0, 0, 0, 0, 0, 0, 0, 0, 0, 0, 0, 0, 0, 0, 0, 0, 0, 0, 0, 0, 0, 0, 0, 0, 0, 0, 0, 0, 0, 1, 0, 0, 0, 0, 0, 0, 1, 0, 0, 0, 0, 1]"
   ]
  },
  {
   "cell_type": "code",
   "execution_count": 55,
   "metadata": {},
   "outputs": [],
   "source": [
    "a = np.array(a)\n",
    "a = np.reshape(a,(1,-1))"
   ]
  },
  {
   "cell_type": "code",
   "execution_count": 62,
   "metadata": {},
   "outputs": [],
   "source": [
    "k = clf.predict(a)[0]\n",
    "prob = np.sort(clf.predict_proba(a))"
   ]
  },
  {
   "cell_type": "code",
   "execution_count": 57,
   "metadata": {},
   "outputs": [
    {
     "name": "stdout",
     "output_type": "stream",
     "text": [
      "Migraine\n"
     ]
    }
   ],
   "source": [
    "with open('new_data.csv','r') as f:\n",
    "    reader= csv.reader(f)\n",
    "    for i in reader:\n",
    "        try:\n",
    "            m = int(i[132])\n",
    "        except:\n",
    "            m = None\n",
    "        if(k == m):\n",
    "            d = i[131]\n",
    "            print(d)\n",
    "            break"
   ]
  },
  {
   "cell_type": "code",
   "execution_count": 58,
   "metadata": {},
   "outputs": [
    {
     "data": {
      "text/plain": [
       "'Migraine'"
      ]
     },
     "execution_count": 58,
     "metadata": {},
     "output_type": "execute_result"
    }
   ],
   "source": [
    "d"
   ]
  },
  {
   "cell_type": "code",
   "execution_count": 69,
   "metadata": {},
   "outputs": [
    {
     "data": {
      "text/plain": [
       "array([3.40185007e-09, 5.59525740e-09, 2.01514957e-08, 2.69386259e-08,\n",
       "       3.09445623e-08, 3.75590427e-08, 5.91404055e-08, 6.26296436e-08,\n",
       "       1.77844019e-07, 2.38597240e-07, 1.18534792e-06, 1.24612063e-06,\n",
       "       1.46152903e-06, 9.31411752e-06, 9.53993673e-06, 9.96193116e-06,\n",
       "       1.50179778e-05, 1.70761470e-05, 2.47831996e-05, 4.53831274e-05,\n",
       "       4.70339797e-05, 5.82247209e-05, 6.89855030e-05, 1.12273289e-04,\n",
       "       1.16152925e-04, 1.57568177e-04, 3.92852446e-04, 3.96883292e-04,\n",
       "       5.04775696e-04, 6.53821045e-04, 6.56561782e-04, 7.06926399e-04,\n",
       "       3.17572202e-03, 4.91443564e-03, 5.14110381e-03, 5.72962075e-03,\n",
       "       8.06319546e-03, 8.85251575e-03, 1.30603512e-02, 4.56828496e-01,\n",
       "       4.90226868e-01])"
      ]
     },
     "execution_count": 69,
     "metadata": {},
     "output_type": "execute_result"
    }
   ],
   "source": [
    "prob[0]"
   ]
  },
  {
   "cell_type": "code",
   "execution_count": null,
   "metadata": {},
   "outputs": [],
   "source": []
  }
 ],
 "metadata": {
  "kernelspec": {
   "display_name": "Python 3.7.4 64-bit",
   "language": "python",
   "name": "python37464bitc87b4d4a3a7946fdb845d21ed037c931"
  },
  "language_info": {
   "codemirror_mode": {
    "name": "ipython",
    "version": 3
   },
   "file_extension": ".py",
   "mimetype": "text/x-python",
   "name": "python",
   "nbconvert_exporter": "python",
   "pygments_lexer": "ipython3",
   "version": "3.7.4"
  }
 },
 "nbformat": 4,
 "nbformat_minor": 4
}

{
 "cells": [
  {
   "cell_type": "code",
   "execution_count": 1,
   "metadata": {},
   "outputs": [],
   "source": [
    "import csv\n",
    "import pandas as pd\n",
    "import numpy as np"
   ]
  },
  {
   "cell_type": "code",
   "execution_count": 2,
   "metadata": {},
   "outputs": [],
   "source": [
    "x = []\n",
    "y = []\n",
    "with open('dataset.csv','r') as f:\n",
    "    reader = csv.reader(f)\n",
    "    next(reader, None)\n",
    "    for i in reader:\n",
    "        \n",
    "        x.append(i[1:])\n",
    "        y.append(i[0])\n",
    "\n",
    "org_x = x\n",
    "org_y = y\n",
    "x = np.array(x).flatten()\n",
    "x = np.unique(x)\n",
    "x = np.delete(x,0) \n",
    "y = np.array(y)\n",
    "y = np.unique(y)\n"
   ]
  },
  {
   "cell_type": "code",
   "execution_count": 3,
   "metadata": {},
   "outputs": [
    {
     "data": {
      "text/plain": [
       "array(['(vertigo) Paroymsal  Positional Vertigo', 'AIDS', 'Acne',\n",
       "       'Alcoholic hepatitis', 'Allergy', 'Arthritis', 'Bronchial Asthma',\n",
       "       'Cervical spondylosis', 'Chicken pox', 'Chronic cholestasis',\n",
       "       'Common Cold', 'Dengue', 'Diabetes ',\n",
       "       'Dimorphic hemmorhoids(piles)', 'Drug Reaction',\n",
       "       'Fungal infection', 'GERD', 'Gastroenteritis', 'Heart attack',\n",
       "       'Hepatitis B', 'Hepatitis C', 'Hepatitis D', 'Hepatitis E',\n",
       "       'Hypertension ', 'Hyperthyroidism', 'Hypoglycemia',\n",
       "       'Hypothyroidism', 'Impetigo', 'Jaundice', 'Malaria', 'Migraine',\n",
       "       'Osteoarthristis', 'Paralysis (brain hemorrhage)',\n",
       "       'Peptic ulcer diseae', 'Pneumonia', 'Psoriasis', 'Tuberculosis',\n",
       "       'Typhoid', 'Urinary tract infection', 'Varicose veins',\n",
       "       'hepatitis A'], dtype='<U39')"
      ]
     },
     "execution_count": 3,
     "metadata": {},
     "output_type": "execute_result"
    }
   ],
   "source": [
    "y"
   ]
  },
  {
   "cell_type": "code",
   "execution_count": 4,
   "metadata": {},
   "outputs": [],
   "source": [
    "new_data = []\n",
    "i = 0\n",
    "for row in org_x:\n",
    "    z = []\n",
    "    for sn in x:\n",
    "        if sn in row:\n",
    "            z.append(1)\n",
    "        else:\n",
    "            z.append(0)\n",
    "    dn = org_y[i]\n",
    "    dc = np.where(y == dn)[0][0]\n",
    "    z.append(dn)\n",
    "    z.append(dc)\n",
    "    new_data.append(z)\n",
    "    i+=1"
   ]
  },
  {
   "cell_type": "code",
   "execution_count": 5,
   "metadata": {},
   "outputs": [
    {
     "data": {
      "text/plain": [
       "16"
      ]
     },
     "execution_count": 5,
     "metadata": {},
     "output_type": "execute_result"
    }
   ],
   "source": [
    "dn = 'GERD'\n",
    "dc = np.where(y == dn)[0]\n",
    "dc[0]"
   ]
  },
  {
   "cell_type": "code",
   "execution_count": 6,
   "metadata": {},
   "outputs": [
    {
     "data": {
      "text/plain": [
       "array([' abdominal_pain', ' abnormal_menstruation', ' acidity',\n",
       "       ' acute_liver_failure', ' altered_sensorium', ' anxiety',\n",
       "       ' back_pain', ' belly_pain', ' blackheads', ' bladder_discomfort',\n",
       "       ' blister', ' blood_in_sputum', ' bloody_stool',\n",
       "       ' blurred_and_distorted_vision', ' breathlessness',\n",
       "       ' brittle_nails', ' bruising', ' burning_micturition',\n",
       "       ' chest_pain', ' chills', ' cold_hands_and_feets', ' coma',\n",
       "       ' congestion', ' constipation', ' continuous_feel_of_urine',\n",
       "       ' continuous_sneezing', ' cough', ' cramps', ' dark_urine',\n",
       "       ' dehydration', ' depression', ' diarrhoea',\n",
       "       ' dischromic _patches', ' distention_of_abdomen', ' dizziness',\n",
       "       ' drying_and_tingling_lips', ' enlarged_thyroid',\n",
       "       ' excessive_hunger', ' extra_marital_contacts', ' family_history',\n",
       "       ' fast_heart_rate', ' fatigue', ' fluid_overload',\n",
       "       ' foul_smell_of urine', ' headache', ' high_fever',\n",
       "       ' hip_joint_pain', ' history_of_alcohol_consumption',\n",
       "       ' increased_appetite', ' indigestion', ' inflammatory_nails',\n",
       "       ' internal_itching', ' irregular_sugar_level', ' irritability',\n",
       "       ' irritation_in_anus', ' joint_pain', ' knee_pain',\n",
       "       ' lack_of_concentration', ' lethargy', ' loss_of_appetite',\n",
       "       ' loss_of_balance', ' loss_of_smell', ' malaise', ' mild_fever',\n",
       "       ' mood_swings', ' movement_stiffness', ' mucoid_sputum',\n",
       "       ' muscle_pain', ' muscle_wasting', ' muscle_weakness', ' nausea',\n",
       "       ' neck_pain', ' nodal_skin_eruptions', ' obesity',\n",
       "       ' pain_behind_the_eyes', ' pain_during_bowel_movements',\n",
       "       ' pain_in_anal_region', ' painful_walking', ' palpitations',\n",
       "       ' passage_of_gases', ' patches_in_throat', ' phlegm', ' polyuria',\n",
       "       ' prominent_veins_on_calf', ' puffy_face_and_eyes',\n",
       "       ' pus_filled_pimples', ' receiving_blood_transfusion',\n",
       "       ' receiving_unsterile_injections', ' red_sore_around_nose',\n",
       "       ' red_spots_over_body', ' redness_of_eyes', ' restlessness',\n",
       "       ' runny_nose', ' rusty_sputum', ' scurring', ' shivering',\n",
       "       ' silver_like_dusting', ' sinus_pressure', ' skin_peeling',\n",
       "       ' skin_rash', ' slurred_speech', ' small_dents_in_nails',\n",
       "       ' spinning_movements', ' spotting_ urination', ' stiff_neck',\n",
       "       ' stomach_bleeding', ' stomach_pain', ' sunken_eyes', ' sweating',\n",
       "       ' swelled_lymph_nodes', ' swelling_joints', ' swelling_of_stomach',\n",
       "       ' swollen_blood_vessels', ' swollen_extremeties', ' swollen_legs',\n",
       "       ' throat_irritation', ' toxic_look_(typhos)', ' ulcers_on_tongue',\n",
       "       ' unsteadiness', ' visual_disturbances', ' vomiting',\n",
       "       ' watering_from_eyes', ' weakness_in_limbs',\n",
       "       ' weakness_of_one_body_side', ' weight_gain', ' weight_loss',\n",
       "       ' yellow_crust_ooze', ' yellow_urine', ' yellowing_of_eyes',\n",
       "       ' yellowish_skin', 'itching', 'Disease', 'Disease Class'],\n",
       "      dtype='<U31')"
      ]
     },
     "execution_count": 6,
     "metadata": {},
     "output_type": "execute_result"
    }
   ],
   "source": [
    "x = np.append(x,'Disease')\n",
    "x = np.append(x,'Disease Class')\n",
    "x"
   ]
  },
  {
   "cell_type": "code",
   "execution_count": 7,
   "metadata": {},
   "outputs": [
    {
     "data": {
      "text/plain": [
       "133"
      ]
     },
     "execution_count": 7,
     "metadata": {},
     "output_type": "execute_result"
    }
   ],
   "source": [
    "len(new_data[0])"
   ]
  },
  {
   "cell_type": "code",
   "execution_count": 58,
   "metadata": {},
   "outputs": [],
   "source": [
    "with open('new_data.csv','w') as f:\n",
    "    writer = csv.writer(f)\n",
    "    writer.writerow(x)\n",
    "    writer.writerows(new_data)"
   ]
  },
  {
   "cell_type": "code",
   "execution_count": 8,
   "metadata": {},
   "outputs": [],
   "source": [
    "k = []\n",
    "for i in x:\n",
    "    st = i\n",
    "    st = st.replace(' ','')\n",
    "    st = st.replace('_',' ')\n",
    "    st = st[0].upper() + st[1:]\n",
    "    k.append(st)\n",
    "    \n"
   ]
  },
  {
   "cell_type": "code",
   "execution_count": 9,
   "metadata": {},
   "outputs": [
    {
     "data": {
      "text/plain": [
       "['Abdominal pain',\n",
       " 'Abnormal menstruation',\n",
       " 'Acidity',\n",
       " 'Acute liver failure',\n",
       " 'Altered sensorium',\n",
       " 'Anxiety',\n",
       " 'Back pain',\n",
       " 'Belly pain',\n",
       " 'Blackheads',\n",
       " 'Bladder discomfort',\n",
       " 'Blister',\n",
       " 'Blood in sputum',\n",
       " 'Bloody stool',\n",
       " 'Blurred and distorted vision',\n",
       " 'Breathlessness',\n",
       " 'Brittle nails',\n",
       " 'Bruising',\n",
       " 'Burning micturition',\n",
       " 'Chest pain',\n",
       " 'Chills',\n",
       " 'Cold hands and feets',\n",
       " 'Coma',\n",
       " 'Congestion',\n",
       " 'Constipation',\n",
       " 'Continuous feel of urine',\n",
       " 'Continuous sneezing',\n",
       " 'Cough',\n",
       " 'Cramps',\n",
       " 'Dark urine',\n",
       " 'Dehydration',\n",
       " 'Depression',\n",
       " 'Diarrhoea',\n",
       " 'Dischromic patches',\n",
       " 'Distention of abdomen',\n",
       " 'Dizziness',\n",
       " 'Drying and tingling lips',\n",
       " 'Enlarged thyroid',\n",
       " 'Excessive hunger',\n",
       " 'Extra marital contacts',\n",
       " 'Family history',\n",
       " 'Fast heart rate',\n",
       " 'Fatigue',\n",
       " 'Fluid overload',\n",
       " 'Foul smell ofurine',\n",
       " 'Headache',\n",
       " 'High fever',\n",
       " 'Hip joint pain',\n",
       " 'History of alcohol consumption',\n",
       " 'Increased appetite',\n",
       " 'Indigestion',\n",
       " 'Inflammatory nails',\n",
       " 'Internal itching',\n",
       " 'Irregular sugar level',\n",
       " 'Irritability',\n",
       " 'Irritation in anus',\n",
       " 'Joint pain',\n",
       " 'Knee pain',\n",
       " 'Lack of concentration',\n",
       " 'Lethargy',\n",
       " 'Loss of appetite',\n",
       " 'Loss of balance',\n",
       " 'Loss of smell',\n",
       " 'Malaise',\n",
       " 'Mild fever',\n",
       " 'Mood swings',\n",
       " 'Movement stiffness',\n",
       " 'Mucoid sputum',\n",
       " 'Muscle pain',\n",
       " 'Muscle wasting',\n",
       " 'Muscle weakness',\n",
       " 'Nausea',\n",
       " 'Neck pain',\n",
       " 'Nodal skin eruptions',\n",
       " 'Obesity',\n",
       " 'Pain behind the eyes',\n",
       " 'Pain during bowel movements',\n",
       " 'Pain in anal region',\n",
       " 'Painful walking',\n",
       " 'Palpitations',\n",
       " 'Passage of gases',\n",
       " 'Patches in throat',\n",
       " 'Phlegm',\n",
       " 'Polyuria',\n",
       " 'Prominent veins on calf',\n",
       " 'Puffy face and eyes',\n",
       " 'Pus filled pimples',\n",
       " 'Receiving blood transfusion',\n",
       " 'Receiving unsterile injections',\n",
       " 'Red sore around nose',\n",
       " 'Red spots over body',\n",
       " 'Redness of eyes',\n",
       " 'Restlessness',\n",
       " 'Runny nose',\n",
       " 'Rusty sputum',\n",
       " 'Scurring',\n",
       " 'Shivering',\n",
       " 'Silver like dusting',\n",
       " 'Sinus pressure',\n",
       " 'Skin peeling',\n",
       " 'Skin rash',\n",
       " 'Slurred speech',\n",
       " 'Small dents in nails',\n",
       " 'Spinning movements',\n",
       " 'Spotting urination',\n",
       " 'Stiff neck',\n",
       " 'Stomach bleeding',\n",
       " 'Stomach pain',\n",
       " 'Sunken eyes',\n",
       " 'Sweating',\n",
       " 'Swelled lymph nodes',\n",
       " 'Swelling joints',\n",
       " 'Swelling of stomach',\n",
       " 'Swollen blood vessels',\n",
       " 'Swollen extremeties',\n",
       " 'Swollen legs',\n",
       " 'Throat irritation',\n",
       " 'Toxic look (typhos)',\n",
       " 'Ulcers on tongue',\n",
       " 'Unsteadiness',\n",
       " 'Visual disturbances',\n",
       " 'Vomiting',\n",
       " 'Watering from eyes',\n",
       " 'Weakness in limbs',\n",
       " 'Weakness of one body side',\n",
       " 'Weight gain',\n",
       " 'Weight loss',\n",
       " 'Yellow crust ooze',\n",
       " 'Yellow urine',\n",
       " 'Yellowing of eyes',\n",
       " 'Yellowish skin',\n",
       " 'Itching',\n",
       " 'Disease',\n",
       " 'DiseaseClass']"
      ]
     },
     "execution_count": 9,
     "metadata": {},
     "output_type": "execute_result"
    }
   ],
   "source": [
    "k"
   ]
  },
  {
   "cell_type": "code",
   "execution_count": 10,
   "metadata": {},
   "outputs": [],
   "source": [
    "sym = {}\n",
    "for i in range(len(k)):\n",
    "    sym[x[i]] = k[i]"
   ]
  },
  {
   "cell_type": "code",
   "execution_count": 11,
   "metadata": {},
   "outputs": [],
   "source": [
    "df = pd.read_csv('to_hind.txt',header = None)"
   ]
  },
  {
   "cell_type": "code",
   "execution_count": 12,
   "metadata": {},
   "outputs": [],
   "source": [
    "m_sym = {}\n",
    "for i in range(len(k)):\n",
    "    m_sym[x[i]] = df.iloc[i][0]"
   ]
  },
  {
   "cell_type": "code",
   "execution_count": 13,
   "metadata": {},
   "outputs": [
    {
     "data": {
      "text/plain": [
       "{' abdominal_pain': 'પેટ નો દુખાવો',\n",
       " ' abnormal_menstruation': 'અસામાન્ય માસિક સ્રાવ',\n",
       " ' acidity': 'એસિડિટી',\n",
       " ' acute_liver_failure': 'તીવ્ર યકૃત નિષ્ફળતા',\n",
       " ' altered_sensorium': 'બદલાયેલ સેન્સરિયમ',\n",
       " ' anxiety': 'ચિંતા',\n",
       " ' back_pain': 'પીઠનો દુખાવો',\n",
       " ' belly_pain': 'પેટનો દુખાવો',\n",
       " ' blackheads': 'બ્લેકહેડ્સ',\n",
       " ' bladder_discomfort': 'મૂત્રાશયની અગવડતા',\n",
       " ' blister': 'ફોલ્લો',\n",
       " ' blood_in_sputum': 'ગળફામાં લોહી',\n",
       " ' bloody_stool': 'લોહિયાળ સ્ટૂલ',\n",
       " ' blurred_and_distorted_vision': 'અસ્પષ્ટ અને વિકૃત દ્રષ્ટિ',\n",
       " ' breathlessness': 'શ્વાસ',\n",
       " ' brittle_nails': 'બરડ નખ',\n",
       " ' bruising': 'ઉઝરડો',\n",
       " ' burning_micturition': 'બળાત્કાર બર્નિંગ',\n",
       " ' chest_pain': 'છાતીનો દુખાવો',\n",
       " ' chills': 'ઠંડી',\n",
       " ' cold_hands_and_feets': 'ઠંડા હાથ અને પગ',\n",
       " ' coma': 'કોમા',\n",
       " ' congestion': 'ભીડ',\n",
       " ' constipation': 'કબજિયાત',\n",
       " ' continuous_feel_of_urine': 'પેશાબની સતત અનુભૂતિ',\n",
       " ' continuous_sneezing': 'સતત છીંક આવવી',\n",
       " ' cough': 'ખાંસી',\n",
       " ' cramps': 'ખેંચાણ',\n",
       " ' dark_urine': 'ઘાટો પેશાબ',\n",
       " ' dehydration': 'ડિહાઇડ્રેશન',\n",
       " ' depression': 'હતાશા',\n",
       " ' diarrhoea': 'અતિસાર',\n",
       " ' dischromic _patches': 'ડિસ્ક્રromમિક પેચો',\n",
       " ' distention_of_abdomen': 'પેટનો ત્યાગ',\n",
       " ' dizziness': 'ચક્કર',\n",
       " ' drying_and_tingling_lips': 'સૂકવણી અને હોઠ કળતર',\n",
       " ' enlarged_thyroid': 'મોટું થાઇરોઇડ',\n",
       " ' excessive_hunger': 'અતિશય ભૂખ',\n",
       " ' extra_marital_contacts': 'વિશેષ વૈવાહિક સંપર્કો',\n",
       " ' family_history': 'પારિવારિક ઇતિહાસ',\n",
       " ' fast_heart_rate': 'ઝડપી ધબકારા',\n",
       " ' fatigue': 'થાક',\n",
       " ' fluid_overload': 'પ્રવાહી ઓવરલોડ',\n",
       " ' foul_smell_of urine': 'ગંધની ગંધ',\n",
       " ' headache': 'માથાનો દુખાવો',\n",
       " ' high_fever': 'વધારે તાવ',\n",
       " ' hip_joint_pain': 'હિપ સાંધાનો દુખાવો',\n",
       " ' history_of_alcohol_consumption': 'આલ્કોહોલ પીવાના ઇતિહાસ',\n",
       " ' increased_appetite': 'ભૂખ વધી',\n",
       " ' indigestion': 'અપચો',\n",
       " ' inflammatory_nails': 'બળતરા નખ',\n",
       " ' internal_itching': 'આંતરિક ખંજવાળ',\n",
       " ' irregular_sugar_level': 'ખાંડનું અનિયમિત સ્તર',\n",
       " ' irritability': 'ચીડિયાપણું',\n",
       " ' irritation_in_anus': 'ગુદામાં બળતરા',\n",
       " ' joint_pain': 'સાંધાનો દુખાવો',\n",
       " ' knee_pain': 'ઘૂંટણની પીડા',\n",
       " ' lack_of_concentration': 'એકાગ્રતાનો અભાવ',\n",
       " ' lethargy': 'સુસ્તી',\n",
       " ' loss_of_appetite': 'ભૂખ ઓછી થવી',\n",
       " ' loss_of_balance': 'સંતુલન ગુમાવવું',\n",
       " ' loss_of_smell': 'ગંધ ગુમાવવી',\n",
       " ' malaise': 'મલાઈઝ',\n",
       " ' mild_fever': 'હળવો તાવ',\n",
       " ' mood_swings': 'મૂડ સ્વિંગ',\n",
       " ' movement_stiffness': 'ચળવળ જડતા',\n",
       " ' mucoid_sputum': 'મ્યુકોઇડ સ્ફુટમ',\n",
       " ' muscle_pain': 'સ્નાયુમાં દુખાવો',\n",
       " ' muscle_wasting': 'સ્નાયુઓનો બગાડ',\n",
       " ' muscle_weakness': 'સ્નાયુઓની નબળાઇ',\n",
       " ' nausea': 'ઉબકા',\n",
       " ' neck_pain': 'ગળામાં દુખાવો',\n",
       " ' nodal_skin_eruptions': 'નોડલ ત્વચા વિસ્ફોટો',\n",
       " ' obesity': 'જાડાપણું',\n",
       " ' pain_behind_the_eyes': 'આંખો પાછળ દુખાવો',\n",
       " ' pain_during_bowel_movements': 'આંતરડાની હિલચાલ દરમિયાન પીડા',\n",
       " ' pain_in_anal_region': 'ગુદા પ્રદેશમાં પીડા',\n",
       " ' painful_walking': 'દુfulખદાયક વ walkingકિંગ',\n",
       " ' palpitations': 'ધબકારા',\n",
       " ' passage_of_gases': 'વાયુઓ પસાર',\n",
       " ' patches_in_throat': 'ગળામાં પેચો',\n",
       " ' phlegm': 'કફ',\n",
       " ' polyuria': 'પોલ્યુરિયા',\n",
       " ' prominent_veins_on_calf': 'વાછરડા પર પ્રખ્યાત નસો',\n",
       " ' puffy_face_and_eyes': 'ચપળ ચહેરો અને આંખો',\n",
       " ' pus_filled_pimples': 'પુસ ભરેલા પિમ્પલ્સ',\n",
       " ' receiving_blood_transfusion': 'લોહી ચfાવવું',\n",
       " ' receiving_unsterile_injections': 'અનસર્ટિલ ઇન્જેક્શન મેળવવું',\n",
       " ' red_sore_around_nose': 'નાકની આસપાસ લાલ વ્રણ',\n",
       " ' red_spots_over_body': 'શરીર ઉપર લાલ ફોલ્લીઓ',\n",
       " ' redness_of_eyes': 'આંખો લાલાશ',\n",
       " ' restlessness': 'બેચેની',\n",
       " ' runny_nose': 'વહેતું નાક',\n",
       " ' rusty_sputum': 'કાટવાળું ગળફામાં',\n",
       " ' scurring': 'કર્કશ',\n",
       " ' shivering': 'ધ્રુજારી',\n",
       " ' silver_like_dusting': 'ધૂળવા જેવી રજત',\n",
       " ' sinus_pressure': 'સાઇનસ પ્રેશર',\n",
       " ' skin_peeling': 'ત્વચા છાલ',\n",
       " ' skin_rash': 'ત્વચા ફોલ્લીઓ',\n",
       " ' slurred_speech': 'અસ્પષ્ટ બોલી',\n",
       " ' small_dents_in_nails': 'નખમાં નાના ડેન્ટ્સ',\n",
       " ' spinning_movements': 'સ્પિનિંગ હલનચલન',\n",
       " ' spotting_ urination': 'સ્પોટિંગ પેશાબ',\n",
       " ' stiff_neck': 'સખત ગરદન',\n",
       " ' stomach_bleeding': 'પેટમાંથી લોહી નીકળવું',\n",
       " ' stomach_pain': 'પેટ પીડા',\n",
       " ' sunken_eyes': 'ડૂબી આંખો',\n",
       " ' sweating': 'પરસેવો આવે છે',\n",
       " ' swelled_lymph_nodes': 'સોજો લસિકા ગાંઠો',\n",
       " ' swelling_joints': 'સોજો સાંધા',\n",
       " ' swelling_of_stomach': 'પેટમાં સોજો',\n",
       " ' swollen_blood_vessels': 'રુધિરવાહિનીઓ સોજો',\n",
       " ' swollen_extremeties': 'સોજો આત્યંતિકતા',\n",
       " ' swollen_legs': 'સોજો પગ',\n",
       " ' throat_irritation': 'ગળામાં બળતરા',\n",
       " ' toxic_look_(typhos)': 'ઝેરી દેખાવ (ટાઇફોસ)',\n",
       " ' ulcers_on_tongue': 'જીભ પર અલ્સર',\n",
       " ' unsteadiness': 'અસ્થિરતા',\n",
       " ' visual_disturbances': 'વિઝ્યુઅલ વિક્ષેપ  ',\n",
       " ' vomiting': 'ઉલટી',\n",
       " ' watering_from_eyes': 'આંખોમાંથી પાણી ભરાવું',\n",
       " ' weakness_in_limbs': 'અંગોમાં નબળાઇ',\n",
       " ' weakness_of_one_body_side': 'શરીરની એક બાજુની નબળાઇ',\n",
       " ' weight_gain': 'વજન વધારો',\n",
       " ' weight_loss': 'વજનમાં ઘટાડો',\n",
       " ' yellow_crust_ooze': 'પીળો પોપડો',\n",
       " ' yellow_urine': 'પીળો પેશાબ',\n",
       " ' yellowing_of_eyes': 'આંખો પીળી',\n",
       " ' yellowish_skin': 'પીળી ત્વચા',\n",
       " 'itching': 'ખંજવાળ',\n",
       " 'Disease': 'Dc',\n",
       " 'Disease Class': 'cd'}"
      ]
     },
     "execution_count": 13,
     "metadata": {},
     "output_type": "execute_result"
    }
   ],
   "source": [
    "m_sym"
   ]
  },
  {
   "cell_type": "code",
   "execution_count": null,
   "metadata": {},
   "outputs": [],
   "source": []
  }
 ],
 "metadata": {
  "kernelspec": {
   "display_name": "Python 3.7.4 64-bit",
   "language": "python",
   "name": "python37464bitc87b4d4a3a7946fdb845d21ed037c931"
  },
  "language_info": {
   "codemirror_mode": {
    "name": "ipython",
    "version": 3
   },
   "file_extension": ".py",
   "mimetype": "text/x-python",
   "name": "python",
   "nbconvert_exporter": "python",
   "pygments_lexer": "ipython3",
   "version": "3.7.4"
  }
 },
 "nbformat": 4,
 "nbformat_minor": 4
}
